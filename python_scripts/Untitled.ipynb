{
 "cells": [
  {
   "cell_type": "code",
   "execution_count": 2,
   "id": "44e7ff8d",
   "metadata": {},
   "outputs": [
    {
     "name": "stderr",
     "output_type": "stream",
     "text": [
      "D:\\conda\\lib\\site-packages\\numpy\\_distributor_init.py:30: UserWarning: loaded more than 1 DLL from .libs:\n",
      "D:\\conda\\lib\\site-packages\\numpy\\.libs\\libopenblas.EL2C6PLE4ZYW3ECEVIV3OXXGRN2NRFM2.gfortran-win_amd64.dll\n",
      "D:\\conda\\lib\\site-packages\\numpy\\.libs\\libopenblas.FB5AE2TYXYH2IJRDKGDGQ3XBKLKTF43H.gfortran-win_amd64.dll\n",
      "  warnings.warn(\"loaded more than 1 DLL from .libs:\"\n",
      "Traceback (most recent call last):\n",
      "  File \"D:\\Kaggle\\ZALO\\spoofing_detection\\spoofing_detection\\python_scripts\\main.py\", line 37, in <module>\n",
      "    clf = joblib.load(args[\"name\"])\n",
      "  File \"D:\\conda\\lib\\site-packages\\joblib\\numpy_pickle.py\", line 605, in load\n",
      "    obj = _unpickle(fobj, filename, mmap_mode)\n",
      "  File \"D:\\conda\\lib\\site-packages\\joblib\\numpy_pickle.py\", line 529, in _unpickle\n",
      "    obj = unpickler.load()\n",
      "  File \"D:\\conda\\lib\\pickle.py\", line 1212, in load\n",
      "    dispatch[key[0]](self)\n",
      "  File \"D:\\conda\\lib\\pickle.py\", line 1528, in load_global\n",
      "    klass = self.find_class(module, name)\n",
      "  File \"D:\\conda\\lib\\pickle.py\", line 1579, in find_class\n",
      "    __import__(module, level=0)\n",
      "  File \"D:\\conda\\lib\\site-packages\\sklearn\\__init__.py\", line 64, in <module>\n",
      "    from .base import clone\n",
      "  File \"D:\\conda\\lib\\site-packages\\sklearn\\base.py\", line 14, in <module>\n",
      "    from .utils.fixes import signature\n",
      "  File \"D:\\conda\\lib\\site-packages\\sklearn\\utils\\__init__.py\", line 14, in <module>\n",
      "    from . import _joblib\n",
      "  File \"D:\\conda\\lib\\site-packages\\sklearn\\utils\\_joblib.py\", line 22, in <module>\n",
      "    from ..externals import joblib\n",
      "  File \"D:\\conda\\lib\\site-packages\\sklearn\\externals\\joblib\\__init__.py\", line 119, in <module>\n",
      "    from .parallel import Parallel\n",
      "  File \"D:\\conda\\lib\\site-packages\\sklearn\\externals\\joblib\\parallel.py\", line 28, in <module>\n",
      "    from ._parallel_backends import (FallbackToBackend, MultiprocessingBackend,\n",
      "  File \"D:\\conda\\lib\\site-packages\\sklearn\\externals\\joblib\\_parallel_backends.py\", line 22, in <module>\n",
      "    from .executor import get_memmapping_executor\n",
      "  File \"D:\\conda\\lib\\site-packages\\sklearn\\externals\\joblib\\executor.py\", line 14, in <module>\n",
      "    from .externals.loky.reusable_executor import get_reusable_executor\n",
      "  File \"D:\\conda\\lib\\site-packages\\sklearn\\externals\\joblib\\externals\\loky\\__init__.py\", line 12, in <module>\n",
      "    from .backend.reduction import set_loky_pickler\n",
      "  File \"D:\\conda\\lib\\site-packages\\sklearn\\externals\\joblib\\externals\\loky\\backend\\reduction.py\", line 125, in <module>\n",
      "    from sklearn.externals.joblib.externals import cloudpickle  # noqa: F401\n",
      "  File \"D:\\conda\\lib\\site-packages\\sklearn\\externals\\joblib\\externals\\cloudpickle\\__init__.py\", line 3, in <module>\n",
      "    from .cloudpickle import *\n",
      "  File \"D:\\conda\\lib\\site-packages\\sklearn\\externals\\joblib\\externals\\cloudpickle\\cloudpickle.py\", line 152, in <module>\n",
      "    _cell_set_template_code = _make_cell_set_template_code()\n",
      "  File \"D:\\conda\\lib\\site-packages\\sklearn\\externals\\joblib\\externals\\cloudpickle\\cloudpickle.py\", line 133, in _make_cell_set_template_code\n",
      "    return types.CodeType(\n",
      "TypeError: an integer is required (got type bytes)\n"
     ]
    }
   ],
   "source": [
    "!python main.py -n D://Kaggle//ZALO//spoofing_detection//spoofing_detection//trained_models//print_attack_trained_models//print_attack_ycrcb_luv_extraTreesClassifier.pkl -d 1"
   ]
  },
  {
   "cell_type": "code",
   "execution_count": 5,
   "id": "50602302",
   "metadata": {},
   "outputs": [
    {
     "name": "stdout",
     "output_type": "stream",
     "text": [
      "3.9.12\n"
     ]
    }
   ],
   "source": [
    "import joblib\n",
    "# print( sklearn.tree.__file__)\n",
    "from platform import python_version\n",
    "print(python_version())"
   ]
  }
 ],
 "metadata": {
  "kernelspec": {
   "display_name": "Python 3 (ipykernel)",
   "language": "python",
   "name": "python3"
  },
  "language_info": {
   "codemirror_mode": {
    "name": "ipython",
    "version": 3
   },
   "file_extension": ".py",
   "mimetype": "text/x-python",
   "name": "python",
   "nbconvert_exporter": "python",
   "pygments_lexer": "ipython3",
   "version": "3.9.12"
  }
 },
 "nbformat": 4,
 "nbformat_minor": 5
}
